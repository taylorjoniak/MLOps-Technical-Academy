{
 "cells": [
  {
   "cell_type": "code",
   "execution_count": 3,
   "id": "romantic-savannah",
   "metadata": {
    "id": "30925b87-4042-4aeb-b1ec-2c318f2627cb",
    "tags": []
   },
   "outputs": [
    {
     "name": "stdout",
     "output_type": "stream",
     "text": [
      "Taylor\n"
     ]
    }
   ],
   "source": [
    "print ('Taylor')"
   ]
  },
  {
   "cell_type": "code",
   "execution_count": 4,
   "id": "solar-creativity",
   "metadata": {
    "id": "a05c51a5-d84d-4029-97de-6c105aac4d73",
    "tags": []
   },
   "outputs": [
    {
     "name": "stdout",
     "output_type": "stream",
     "text": [
      "I changed this\n"
     ]
    }
   ],
   "source": [
    "print ('I changed this')"
   ]
  },
  {
   "cell_type": "code",
   "execution_count": null,
   "id": "significant-cookbook",
   "metadata": {
    "id": "ce6b7643-2ce0-4ca3-ac96-936febbb8d8c"
   },
   "outputs": [],
   "source": [
    "print('creating merge conflict attempt 1')"
   ]
  }
 ],
 "metadata": {
  "kernelspec": {
   "display_name": "Python 3.9",
   "language": "python",
   "name": "python3"
  },
  "language_info": {
   "codemirror_mode": {
    "name": "ipython",
    "version": 3
   },
   "file_extension": ".py",
   "mimetype": "text/x-python",
   "name": "python",
   "nbconvert_exporter": "python",
   "pygments_lexer": "ipython3",
   "version": "3.9.7"
  }
 },
 "nbformat": 4,
 "nbformat_minor": 5
}
