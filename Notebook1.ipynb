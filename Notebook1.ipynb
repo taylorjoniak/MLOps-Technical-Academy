{
 "cells": [
  {
   "cell_type": "code",
   "execution_count": 3,
   "id": "damaged-colony",
   "metadata": {
    "id": "30925b87-4042-4aeb-b1ec-2c318f2627cb",
    "tags": []
   },
   "outputs": [
    {
     "name": "stdout",
     "output_type": "stream",
     "text": [
      "Taylor\n"
     ]
    }
   ],
   "source": [
    "print ('Taylor')"
   ]
  },
  {
   "cell_type": "code",
   "execution_count": null,
   "id": "weekly-original",
   "metadata": {
    "id": "a05c51a5-d84d-4029-97de-6c105aac4d73"
   },
   "outputs": [],
   "source": [
    "print ('I changed this')"
   ]
  }
 ],
 "metadata": {
  "kernelspec": {
   "display_name": "Python 3.9",
   "language": "python",
   "name": "python3"
  },
  "language_info": {
   "codemirror_mode": {
    "name": "ipython",
    "version": 3
   },
   "file_extension": ".py",
   "mimetype": "text/x-python",
   "name": "python",
   "nbconvert_exporter": "python",
   "pygments_lexer": "ipython3",
   "version": "3.9.7"
  }
 },
 "nbformat": 4,
 "nbformat_minor": 5
}
