{
 "cells": [
  {
   "cell_type": "code",
   "execution_count": 1,
   "id": "institutional-outreach",
   "metadata": {
    "id": "9b03f4a3-28b3-4d61-acfc-7f41f5b2f5ae",
    "tags": []
   },
   "outputs": [
    {
     "name": "stdout",
     "output_type": "stream",
     "text": [
      "MLOps Tech Academy\n"
     ]
    }
   ],
   "source": [
    "print ('MLOps Tech Academy')"
   ]
  },
  {
   "cell_type": "code",
   "execution_count": null,
   "id": "persistent-bible",
   "metadata": {
    "id": "fd1f7a67-7d2e-4ae4-93d8-12e4519272a8"
   },
   "outputs": [],
   "source": []
  }
 ],
 "metadata": {
  "kernelspec": {
   "display_name": "Python 3.9",
   "language": "python",
   "name": "python3"
  },
  "language_info": {
   "codemirror_mode": {
    "name": "ipython",
    "version": 3
   },
   "file_extension": ".py",
   "mimetype": "text/x-python",
   "name": "python",
   "nbconvert_exporter": "python",
   "pygments_lexer": "ipython3",
   "version": "3.9.7"
  }
 },
 "nbformat": 4,
 "nbformat_minor": 5
}
